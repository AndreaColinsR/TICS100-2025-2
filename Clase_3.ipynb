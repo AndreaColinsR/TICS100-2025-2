{
  "nbformat": 4,
  "nbformat_minor": 0,
  "metadata": {
    "colab": {
      "provenance": [],
      "authorship_tag": "ABX9TyP2z/fGNFTR4g4B0ONumJDa",
      "include_colab_link": true
    },
    "kernelspec": {
      "name": "python3",
      "display_name": "Python 3"
    },
    "language_info": {
      "name": "python"
    }
  },
  "cells": [
    {
      "cell_type": "markdown",
      "metadata": {
        "id": "view-in-github",
        "colab_type": "text"
      },
      "source": [
        "<a href=\"https://colab.research.google.com/github/AndreaColinsR/TICS100-2025-2/blob/main/Clase_3.ipynb\" target=\"_parent\"><img src=\"https://colab.research.google.com/assets/colab-badge.svg\" alt=\"Open In Colab\"/></a>"
      ]
    },
    {
      "cell_type": "markdown",
      "source": [
        "# Clase 3"
      ],
      "metadata": {
        "id": "shbdBgTwIt77"
      }
    },
    {
      "cell_type": "code",
      "source": [
        "# 1. Pedir informacion a usuario\n",
        "Numero_str = input(\"Ingrese un numero de 3 digitos \")\n",
        "\n",
        "# 2. Convertir string a numero\n",
        "Numero = int(Numero_str)\n",
        "\n",
        "# 3. Calcular ultimos dos numeros\n",
        "Ultimos2 = Numero%100\n",
        "\n",
        "# 3. Calcular unidades, decenas y centenas\n",
        "\n",
        "Unidades = Ultimos2%10\n",
        "Decenas = (Ultimos2-Unidades)/10\n",
        "Centenas = (Numero - Decenas*10-Unidades)/100\n",
        "\n",
        "#4.  Retornar resultado\n",
        "print(\"El numero tiene \",int(Centenas), \"Centenas\")\n",
        "print(\"El numero tiene \",int(Decenas), \"Decenas\")\n",
        "print(\"El numero tiene \",Unidades, \"Unidades\")\n"
      ],
      "metadata": {
        "colab": {
          "base_uri": "https://localhost:8080/"
        },
        "id": "Sz_7HZI3Vt-T",
        "outputId": "033dc1c7-d247-4e85-84a9-58224b0e6942"
      },
      "execution_count": null,
      "outputs": [
        {
          "output_type": "stream",
          "name": "stdout",
          "text": [
            "Ingrese un numero de 3 digitos 345\n",
            "El numero tiene  3 Centenas\n",
            "El numero tiene  4 Decenas\n",
            "El numero tiene  5 Unidades\n"
          ]
        }
      ]
    },
    {
      "cell_type": "markdown",
      "source": [
        "## Debugging\n",
        "\n",
        "\n",
        "~~~markdown\n",
        " 💡 **Debugging (o depuración)** es el proceso de encontrar,\n",
        "\n",
        " analizar y solucionar errores en un código.\n",
        "~~~"
      ],
      "metadata": {
        "id": "d2ITpV6nI0Ik"
      }
    },
    {
      "cell_type": "code",
      "source": [
        "print(\"Linea 1\")\n",
        "print(\"Linea 2)\n",
        "print(\"Linea 3\")\n",
        "print(\"Linea 4\")"
      ],
      "metadata": {
        "id": "yiJzEsXjOb1U",
        "colab": {
          "base_uri": "https://localhost:8080/",
          "height": 109
        },
        "outputId": "6c32e600-cc25-4d4b-8d10-a093cabdf3fb"
      },
      "execution_count": null,
      "outputs": [
        {
          "output_type": "error",
          "ename": "SyntaxError",
          "evalue": "unterminated string literal (detected at line 2) (ipython-input-7084826.py, line 2)",
          "traceback": [
            "\u001b[0;36m  File \u001b[0;32m\"/tmp/ipython-input-7084826.py\"\u001b[0;36m, line \u001b[0;32m2\u001b[0m\n\u001b[0;31m    print(\"Linea 2)\u001b[0m\n\u001b[0m          ^\u001b[0m\n\u001b[0;31mSyntaxError\u001b[0m\u001b[0;31m:\u001b[0m unterminated string literal (detected at line 2)\n"
          ]
        }
      ]
    },
    {
      "cell_type": "markdown",
      "source": [
        "### 1. En qué linea está el error?\n",
        "\n",
        "Para visualizar el número de linea vaya a:\n",
        "\n",
        "Tools > Settings > Editor > Show line numbers\n",
        "\n",
        "\n",
        "### 2. Qué dice el error?\n",
        "\n",
        "~~~\n",
        "SyntaxError: unterminated string literal (detected at line 2)\n",
        "~~~\n",
        "\n",
        "El error nos da una **pista** de que hay un problema con un string en la línea 2\n",
        "\n",
        "### 3. Qué puede estar generando ese error?\n",
        "\n",
        "Faltan las comillas que marcan el final del string"
      ],
      "metadata": {
        "id": "j_UcUV0pQGZt"
      }
    },
    {
      "cell_type": "markdown",
      "source": [
        "## Ejercicio depuración\n",
        "\n",
        "El siguiente código fue escrito para calcular el maximo de 3 numeros que ingresa el usuario. Pero los usuarios han notado que el código no produce los resultados esperados. Identifique y corrija el problema que está causando los errores en el código.\n"
      ],
      "metadata": {
        "id": "LsSzZW2aQ2Cx"
      }
    },
    {
      "cell_type": "code",
      "source": [
        "Numero1_str=input(\"Ingrese el primer numero: \")\n",
        "Numero2_str=input(\"Ingrese el segundo numero: \")\n",
        "Numero3_str=input(\"Ingrese el tercer numero: \")\n",
        "\n",
        "numero_max=max(float(Numero1_str)+float(Numero2_str),Numero3_str)\n",
        "\n",
        "print(\"El numero maximo es \", numero_max)"
      ],
      "metadata": {
        "colab": {
          "base_uri": "https://localhost:8080/",
          "height": 383
        },
        "id": "YTtCo3v_TVc-",
        "outputId": "42b6617e-349c-4ff8-8c36-f64e00a30a9d"
      },
      "execution_count": null,
      "outputs": [
        {
          "output_type": "error",
          "ename": "KeyboardInterrupt",
          "evalue": "Interrupted by user",
          "traceback": [
            "\u001b[0;31m---------------------------------------------------------------------------\u001b[0m",
            "\u001b[0;31mKeyboardInterrupt\u001b[0m                         Traceback (most recent call last)",
            "\u001b[0;32m/tmp/ipython-input-1711311533.py\u001b[0m in \u001b[0;36m<cell line: 0>\u001b[0;34m()\u001b[0m\n\u001b[0;32m----> 1\u001b[0;31m \u001b[0mNumero1_str\u001b[0m\u001b[0;34m=\u001b[0m\u001b[0minput\u001b[0m\u001b[0;34m(\u001b[0m\u001b[0;34m\"Ingrese el primer numero: \"\u001b[0m\u001b[0;34m)\u001b[0m\u001b[0;34m\u001b[0m\u001b[0;34m\u001b[0m\u001b[0m\n\u001b[0m\u001b[1;32m      2\u001b[0m \u001b[0mNumero2_str\u001b[0m\u001b[0;34m=\u001b[0m\u001b[0minput\u001b[0m\u001b[0;34m(\u001b[0m\u001b[0;34m\"Ingrese el segundo numero: \"\u001b[0m\u001b[0;34m)\u001b[0m\u001b[0;34m\u001b[0m\u001b[0;34m\u001b[0m\u001b[0m\n\u001b[1;32m      3\u001b[0m \u001b[0mNumero3_str\u001b[0m\u001b[0;34m=\u001b[0m\u001b[0minput\u001b[0m\u001b[0;34m(\u001b[0m\u001b[0;34m\"Ingrese el tercer numero: \"\u001b[0m\u001b[0;34m)\u001b[0m\u001b[0;34m\u001b[0m\u001b[0;34m\u001b[0m\u001b[0m\n\u001b[1;32m      4\u001b[0m \u001b[0;34m\u001b[0m\u001b[0m\n\u001b[1;32m      5\u001b[0m \u001b[0mnumero_max\u001b[0m\u001b[0;34m=\u001b[0m\u001b[0mmax\u001b[0m\u001b[0;34m(\u001b[0m\u001b[0mfloat\u001b[0m\u001b[0;34m(\u001b[0m\u001b[0mNumero1_str\u001b[0m\u001b[0;34m)\u001b[0m\u001b[0;34m+\u001b[0m\u001b[0mfloat\u001b[0m\u001b[0;34m(\u001b[0m\u001b[0mNumero2_str\u001b[0m\u001b[0;34m)\u001b[0m\u001b[0;34m,\u001b[0m\u001b[0mNumero3_str\u001b[0m\u001b[0;34m)\u001b[0m\u001b[0;34m\u001b[0m\u001b[0;34m\u001b[0m\u001b[0m\n",
            "\u001b[0;32m/usr/local/lib/python3.12/dist-packages/ipykernel/kernelbase.py\u001b[0m in \u001b[0;36mraw_input\u001b[0;34m(self, prompt)\u001b[0m\n\u001b[1;32m   1175\u001b[0m                 \u001b[0;34m\"raw_input was called, but this frontend does not support input requests.\"\u001b[0m\u001b[0;34m\u001b[0m\u001b[0;34m\u001b[0m\u001b[0m\n\u001b[1;32m   1176\u001b[0m             )\n\u001b[0;32m-> 1177\u001b[0;31m         return self._input_request(\n\u001b[0m\u001b[1;32m   1178\u001b[0m             \u001b[0mstr\u001b[0m\u001b[0;34m(\u001b[0m\u001b[0mprompt\u001b[0m\u001b[0;34m)\u001b[0m\u001b[0;34m,\u001b[0m\u001b[0;34m\u001b[0m\u001b[0;34m\u001b[0m\u001b[0m\n\u001b[1;32m   1179\u001b[0m             \u001b[0mself\u001b[0m\u001b[0;34m.\u001b[0m\u001b[0m_parent_ident\u001b[0m\u001b[0;34m[\u001b[0m\u001b[0;34m\"shell\"\u001b[0m\u001b[0;34m]\u001b[0m\u001b[0;34m,\u001b[0m\u001b[0;34m\u001b[0m\u001b[0;34m\u001b[0m\u001b[0m\n",
            "\u001b[0;32m/usr/local/lib/python3.12/dist-packages/ipykernel/kernelbase.py\u001b[0m in \u001b[0;36m_input_request\u001b[0;34m(self, prompt, ident, parent, password)\u001b[0m\n\u001b[1;32m   1217\u001b[0m             \u001b[0;32mexcept\u001b[0m \u001b[0mKeyboardInterrupt\u001b[0m\u001b[0;34m:\u001b[0m\u001b[0;34m\u001b[0m\u001b[0;34m\u001b[0m\u001b[0m\n\u001b[1;32m   1218\u001b[0m                 \u001b[0;31m# re-raise KeyboardInterrupt, to truncate traceback\u001b[0m\u001b[0;34m\u001b[0m\u001b[0;34m\u001b[0m\u001b[0m\n\u001b[0;32m-> 1219\u001b[0;31m                 \u001b[0;32mraise\u001b[0m \u001b[0mKeyboardInterrupt\u001b[0m\u001b[0;34m(\u001b[0m\u001b[0;34m\"Interrupted by user\"\u001b[0m\u001b[0;34m)\u001b[0m \u001b[0;32mfrom\u001b[0m \u001b[0;32mNone\u001b[0m\u001b[0;34m\u001b[0m\u001b[0;34m\u001b[0m\u001b[0m\n\u001b[0m\u001b[1;32m   1220\u001b[0m             \u001b[0;32mexcept\u001b[0m \u001b[0mException\u001b[0m\u001b[0;34m:\u001b[0m\u001b[0;34m\u001b[0m\u001b[0;34m\u001b[0m\u001b[0m\n\u001b[1;32m   1221\u001b[0m                 \u001b[0mself\u001b[0m\u001b[0;34m.\u001b[0m\u001b[0mlog\u001b[0m\u001b[0;34m.\u001b[0m\u001b[0mwarning\u001b[0m\u001b[0;34m(\u001b[0m\u001b[0;34m\"Invalid Message:\"\u001b[0m\u001b[0;34m,\u001b[0m \u001b[0mexc_info\u001b[0m\u001b[0;34m=\u001b[0m\u001b[0;32mTrue\u001b[0m\u001b[0;34m)\u001b[0m\u001b[0;34m\u001b[0m\u001b[0;34m\u001b[0m\u001b[0m\n",
            "\u001b[0;31mKeyboardInterrupt\u001b[0m: Interrupted by user"
          ]
        }
      ]
    },
    {
      "cell_type": "code",
      "source": [
        "## Codigo depurado\n",
        "Numero1_str=input(\"Ingrese el primer numero: \")\n",
        "Numero2_str=input(\"Ingrese el segundo numero: \")\n",
        "Numero3_str=input(\"Ingrese el tercer numero: \")\n",
        "\n",
        "\n",
        "#1. Numero3_str debe ser convertido a un numero antes de poder operar\n",
        "#2. Los numeros 1 y 2 se estaban sumando, lo que producia resultados erroneos\n",
        "numero_max=max(float(Numero1_str),float(Numero2_str),float(Numero3_str))\n",
        "\n",
        "print(\"El numero maximo es \", numero_max)"
      ],
      "metadata": {
        "id": "Y57riJWsW-uJ"
      },
      "execution_count": null,
      "outputs": []
    },
    {
      "cell_type": "markdown",
      "source": [
        "# Módulos\n",
        "\n",
        "~~~markdown\n",
        "💡 Una **función** es un segmento de código\n",
        " reutilizable que realiza una tarea específica\n",
        "~~~\n",
        "\n"
      ],
      "metadata": {
        "id": "7IcEn_c3RzCJ"
      }
    },
    {
      "cell_type": "code",
      "source": [
        "# ejemplo: la función print() recibe 1 input y retorna 0 outputs\n",
        "print(\"Input\")"
      ],
      "metadata": {
        "colab": {
          "base_uri": "https://localhost:8080/"
        },
        "id": "0ItXZzetm2bH",
        "outputId": "62ebe878-1b09-4f1a-86ac-ab27daa17afc"
      },
      "execution_count": null,
      "outputs": [
        {
          "output_type": "stream",
          "name": "stdout",
          "text": [
            "Input\n"
          ]
        }
      ]
    },
    {
      "cell_type": "code",
      "source": [
        "# ejemplo: la función input() recibe 1 input y retorna 1 output\n",
        "output=input(\"Input = \")"
      ],
      "metadata": {
        "colab": {
          "base_uri": "https://localhost:8080/"
        },
        "id": "24cauZ8Nn3AM",
        "outputId": "e2610af2-040e-4d98-f6a3-a2195b92ffcb"
      },
      "execution_count": null,
      "outputs": [
        {
          "name": "stdout",
          "output_type": "stream",
          "text": [
            "Input = 2\n"
          ]
        }
      ]
    },
    {
      "cell_type": "markdown",
      "source": [
        "## Math\n",
        "\n",
        "La biblioteca Math ofrece funciones y constantes matemáticas como:\n",
        "\n",
        "\n",
        "| Función o constante matemática   | Función en Math|\n",
        "| -------- | ---  |\n",
        "| ∞| ```math.inf``` |\n",
        "| $\\pi$| ```math.pi``` |\n",
        "| $e$| ```math.e``` |\n",
        "| $\\sqrt x$| ```math.sqrt(x)``` |\n",
        "| $e^x$| ```math.exp(x)``` |\n",
        "| $seno(x)$| ```math.sin(x)``` |\n",
        "| $coseno(x)$| ```math.cos(x)``` |\n",
        "| $tangente(x)$| ```math.tan(x)``` |"
      ],
      "metadata": {
        "id": "ovdIbSRQR8W9"
      }
    },
    {
      "cell_type": "code",
      "source": [
        "# cargar el modulo math\n",
        "# OJO!! esto es necesario solo al principio del código\n",
        "import math\n",
        "\n",
        "# definir variable con el valor infinito\n",
        "variable_inf = math.inf\n",
        "\n",
        "print(\"variable_inf es = \",variable_inf)"
      ],
      "metadata": {
        "id": "A8VyBn4FQDHq",
        "colab": {
          "base_uri": "https://localhost:8080/"
        },
        "outputId": "836059f0-7d30-4a50-818d-518af4aa17c1"
      },
      "execution_count": null,
      "outputs": [
        {
          "output_type": "stream",
          "name": "stdout",
          "text": [
            "variable_inf es =  inf\n"
          ]
        }
      ]
    },
    {
      "cell_type": "code",
      "source": [
        "# calcular la raiz cuadrada de un numero\n",
        "numero = 9\n",
        "raiz_numero = math.sqrt(numero)\n",
        "\n",
        "print(\"La raiz de \", numero, \" es = \", raiz_numero)\n",
        "\n",
        "## que pasa si numero es negativo?"
      ],
      "metadata": {
        "id": "plDIg4hHdJCT",
        "colab": {
          "base_uri": "https://localhost:8080/"
        },
        "outputId": "1f9cd2ba-4e21-4a67-dc0e-9a3f3e032396"
      },
      "execution_count": null,
      "outputs": [
        {
          "output_type": "stream",
          "name": "stdout",
          "text": [
            "La raiz de  9  es =  3.0\n"
          ]
        }
      ]
    },
    {
      "cell_type": "code",
      "source": [
        "import math\n",
        "\n",
        "numero_positivo = 3\n",
        "logaritmo_natural = math.log(numero_positivo)\n",
        "print(\"El logaritmo natural de\", numero_positivo, \"es =\",logaritmo_natural)"
      ],
      "metadata": {
        "colab": {
          "base_uri": "https://localhost:8080/"
        },
        "id": "VsaIXatkvjhQ",
        "outputId": "9449bffc-a70e-4ba2-ecb9-b1097d96d65d"
      },
      "execution_count": null,
      "outputs": [
        {
          "output_type": "stream",
          "name": "stdout",
          "text": [
            "El logaritmo natural de 3 es = 1.0986122886681098\n"
          ]
        }
      ]
    },
    {
      "cell_type": "code",
      "source": [
        "import math\n",
        "num_decimal = 3.7\n",
        "\n",
        "## redondeo comun sin modulo math (0.5 => N+1)\n",
        "num_redondeo = round(num_decimal)\n",
        "print(num_redondeo)\n",
        "\n",
        "\n",
        "num_redondeo_arriba = math.ceil(num_decimal)\n",
        "print(num_redondeo_arriba)\n",
        "\n",
        "num_redondeo_abajo = math.floor(num_decimal)\n",
        "print(num_redondeo_abajo)\n"
      ],
      "metadata": {
        "colab": {
          "base_uri": "https://localhost:8080/"
        },
        "id": "sijvOH8dwWGp",
        "outputId": "48b3f7d0-c2ac-4b8b-b70b-70837b44217f"
      },
      "execution_count": null,
      "outputs": [
        {
          "output_type": "stream",
          "name": "stdout",
          "text": [
            "4\n",
            "4\n",
            "3\n"
          ]
        }
      ]
    },
    {
      "cell_type": "markdown",
      "source": [
        "## Ejercicio\n",
        "\n",
        "\n",
        "Cree un programa que calcule la nota mínima necesaria para aprobar el curso."
      ],
      "metadata": {
        "id": "3f94UGIgYTSn"
      }
    },
    {
      "cell_type": "code",
      "source": [
        "import math\n",
        "Nota1_str=input(\"Ingrese su primera nota: \")\n",
        "Nota2_str=input(\"Ingrese su segunda nota: \")\n",
        "\n",
        "# promedio>= 4.0 = (ceil(N1)+ceil(N2)+ceil(N3))/3\n",
        "# ceil(N3)>= 4*3-ceil(N1)+ceil(N2)\n",
        "# N3>= floor(4*3-ceil(N1)+ceil(N2))+0.1\n",
        "print(\" Minima nota para aprobar\",math.floor(4*3-math.ceil(float(Nota1_str))-math.ceil(float(Nota2_str)))+0.1)"
      ],
      "metadata": {
        "colab": {
          "base_uri": "https://localhost:8080/"
        },
        "id": "nwpmEF1QYurk",
        "outputId": "5513dff2-b4db-4d74-8503-69a51c7458fd"
      },
      "execution_count": null,
      "outputs": [
        {
          "output_type": "stream",
          "name": "stdout",
          "text": [
            "Ingrese su primera nota: 5.6\n",
            "Ingrese su segunda nota: 2\n",
            " Minima nota para aprobar 4.1\n"
          ]
        }
      ]
    },
    {
      "cell_type": "markdown",
      "source": [
        "## Random\n",
        "\n",
        "El módulo Random ofrece funciones para generar números aleatorios\n",
        "\n",
        "| Función del módulo random   | Descripción|\n",
        "| -------- | ---  |\n",
        "| ```random.random()```| Genera un número **decimal** aleatorio en el intervalo $[0,1]$ |\n",
        "| ```random.uniform(a,b)```| Genera un número **decimal** aleatorio en el intervalo $[a,b]$ |\n",
        "| ```random.int(a,b)```| Genera un número **entero** aleatorio en el intervalo $[a,b]$ |\n"
      ],
      "metadata": {
        "id": "S_-PhVbNSNUa"
      }
    },
    {
      "cell_type": "code",
      "execution_count": null,
      "metadata": {
        "id": "oP-KyElvIq7O",
        "colab": {
          "base_uri": "https://localhost:8080/"
        },
        "outputId": "5d82ebbc-23db-472b-90e0-846eb4dc7655"
      },
      "outputs": [
        {
          "output_type": "stream",
          "name": "stdout",
          "text": [
            "0.803953768121873\n"
          ]
        }
      ],
      "source": [
        "# Cargar modulo\n",
        "import random\n",
        "\n",
        "v=random.random()\n",
        "print(v)\n",
        "\n",
        "# que pasa si ejecuta este codigo varias veces?"
      ]
    },
    {
      "cell_type": "markdown",
      "source": [
        "Ahora podemos graficar los números que obtenemos"
      ],
      "metadata": {
        "id": "e1hXMfs6l2Bl"
      }
    },
    {
      "cell_type": "code",
      "source": [
        "# Cargar modulo para hacer graficos y renonmbrarlo como plt\n",
        "import matplotlib.pyplot as plt\n",
        "\n",
        "\n",
        "# Crear 4 numeros aleatorios\n",
        "numero_random1=random.random()\n",
        "numero_random2=random.random()\n",
        "numero_random3=random.random()\n",
        "numero_random4=random.random()\n",
        "\n",
        "\n",
        "# Graficar los 4 numeros obtenidos\n",
        "plt.plot(1,numero_random1,'.')\n",
        "plt.plot(2,numero_random2,'.')\n",
        "plt.plot(3,numero_random3,'.')\n",
        "plt.plot(4,numero_random4,'.')\n",
        "plt.ylim(0,1)\n",
        "plt.show()"
      ],
      "metadata": {
        "id": "B1HSIgijkAGa",
        "colab": {
          "base_uri": "https://localhost:8080/",
          "height": 435
        },
        "outputId": "6eb5fcdc-3a06-400b-f808-17865ef1376e"
      },
      "execution_count": null,
      "outputs": [
        {
          "output_type": "display_data",
          "data": {
            "text/plain": [
              "<Figure size 640x480 with 1 Axes>"
            ],
            "image/png": "[encoded data removed]"
          },
          "metadata": {}
        }
      ]
    },
    {
      "cell_type": "code",
      "source": [
        "import random\n",
        "\n",
        "# Generando un numero aleatorio entre 2.5 y 5.5\n",
        "numAleatorio = random.uniform(2.5,5.5)\n",
        "print(numAleatorio)"
      ],
      "metadata": {
        "colab": {
          "base_uri": "https://localhost:8080/"
        },
        "id": "jIbAP8I8cSv1",
        "outputId": "cefbe1a1-e69b-4015-8515-6b49d9ea2aeb"
      },
      "execution_count": null,
      "outputs": [
        {
          "output_type": "stream",
          "name": "stdout",
          "text": [
            "4.695852282082825\n"
          ]
        }
      ]
    },
    {
      "cell_type": "code",
      "source": [
        "import random\n",
        "\n",
        "# Generando un numero aleatorio entre 2.5 y 5.5\n",
        "numAleatorio = random.randint(1,10)\n",
        "print(numAleatorio)"
      ],
      "metadata": {
        "colab": {
          "base_uri": "https://localhost:8080/"
        },
        "id": "AQx0kDZ4cwPJ",
        "outputId": "ada751ba-705a-40be-b5f8-107c221338e4"
      },
      "execution_count": null,
      "outputs": [
        {
          "output_type": "stream",
          "name": "stdout",
          "text": [
            "3\n"
          ]
        }
      ]
    },
    {
      "cell_type": "markdown",
      "source": [
        "# Ejercicio\n",
        "\n",
        "Juego de los dados\n",
        "\n",
        "Instrucciones\n",
        "\n",
        "1. Deberás lanzar dos dados de 6 caras cara uno\n",
        "2. Imprimir el resultado de cada dado\n",
        "3. Calcular y mostrar la suma del valor de los dados."
      ],
      "metadata": {
        "id": "ONfvaCNidHCr"
      }
    },
    {
      "cell_type": "code",
      "source": [
        "import random\n",
        "\n",
        "## Definir los dados\n",
        "Dado1 = random.randint(1,6)\n",
        "Dado2 = random.randint(1,6)\n",
        "\n",
        "## Imprimir resultados de los dados\n",
        "print(\" Valor dado 1 =\",Dado1)\n",
        "print(\" Valor dado 2 =\",Dado2)\n",
        "print(\" Suma de los dados =\",Dado1+Dado2)\n"
      ],
      "metadata": {
        "colab": {
          "base_uri": "https://localhost:8080/"
        },
        "id": "bHaabOuIdMn_",
        "outputId": "05248c81-1a88-4265-f066-5ba60154b5e7"
      },
      "execution_count": null,
      "outputs": [
        {
          "output_type": "stream",
          "name": "stdout",
          "text": [
            " Valor dado 1 = 4\n",
            " Valor dado 2 = 3\n",
            " Suma de los dados = 7\n"
          ]
        }
      ]
    },
    {
      "cell_type": "markdown",
      "source": [
        "## Time\n"
      ],
      "metadata": {
        "id": "jbSA6zHASWub"
      }
    },
    {
      "cell_type": "code",
      "source": [
        "# Cargar modulo time\n",
        "import time\n",
        "\n",
        "tiempoActual = time.time()\n",
        "print(\"Segundos desde el 1/1/1970\",tiempoActual)"
      ],
      "metadata": {
        "id": "Vgb4xH0CSdqN",
        "colab": {
          "base_uri": "https://localhost:8080/"
        },
        "outputId": "f3bad0dc-0843-45c8-e3bf-001ba88e8966"
      },
      "execution_count": null,
      "outputs": [
        {
          "output_type": "stream",
          "name": "stdout",
          "text": [
            "Segundos desde el 1/1/1970 1755374559.4816344\n"
          ]
        }
      ]
    },
    {
      "cell_type": "code",
      "source": [
        "import time\n",
        "\n",
        "tiempoActual = time.ctime()\n",
        "print(\"Fecha actual\",tiempoActual)"
      ],
      "metadata": {
        "colab": {
          "base_uri": "https://localhost:8080/"
        },
        "id": "1MN3Qr-heikv",
        "outputId": "0494abc8-e248-451d-a354-60facef03ff4"
      },
      "execution_count": null,
      "outputs": [
        {
          "output_type": "stream",
          "name": "stdout",
          "text": [
            "Fecha actual Sat Aug 16 20:03:20 2025\n"
          ]
        }
      ]
    },
    {
      "cell_type": "code",
      "source": [
        "import time\n",
        "\n",
        "tiempoActual = time.ctime()\n",
        "print(\"Fecha actual\",tiempoActual)\n",
        "time.sleep(2)\n",
        "tiempoActual2 = time.ctime()\n",
        "print(\"Fecha actual\",tiempoActual2)"
      ],
      "metadata": {
        "colab": {
          "base_uri": "https://localhost:8080/"
        },
        "id": "VSt__66HetkM",
        "outputId": "99f0934a-9743-4333-d10d-5c04d037b49f"
      },
      "execution_count": null,
      "outputs": [
        {
          "output_type": "stream",
          "name": "stdout",
          "text": [
            "Fecha actual Sat Aug 16 20:04:24 2025\n",
            "Fecha actual Sat Aug 16 20:04:26 2025\n"
          ]
        }
      ]
    },
    {
      "cell_type": "code",
      "source": [
        "## Podemos usar la funcion time.time para medir el tiempo transcurrido entre dos eventos.\n",
        "\n",
        "import time\n",
        "import math\n",
        "\n",
        "\n",
        "tiempoInicial = time.time()\n",
        "Num=input(\"Indique un numero positivo \")\n",
        "raiz=math.sqrt(float(Num))\n",
        "tiempoFinal = time.time()\n",
        "\n",
        "\n",
        "print(\"La raiz cuadrada es \",raiz)\n",
        "Tiempo_transcurrido = tiempoFinal-tiempoInicial\n",
        "print(\"Tiempo transcurrido\",Tiempo_transcurrido, \"[s]\")\n"
      ],
      "metadata": {
        "colab": {
          "base_uri": "https://localhost:8080/"
        },
        "id": "XgkmvggJe_Fi",
        "outputId": "99e47e7b-23ca-40db-f75b-67e0d1595938"
      },
      "execution_count": null,
      "outputs": [
        {
          "output_type": "stream",
          "name": "stdout",
          "text": [
            "Indique un numero positivo 45.8\n",
            "La raiz cuadrada es  6.767569726275452\n",
            "Tiempo transcurrido 2.858719825744629 [s]\n"
          ]
        }
      ]
    },
    {
      "cell_type": "markdown",
      "source": [
        "## Ejercicio\n",
        "\n",
        "Cree en un programa que mida el tiempo de respuesta del usuario.\n",
        "\n",
        "Para esto cree un codigo que le indique al usuario las instrucciones del juego y despliegue el siguiete output\n",
        "\n"
      ],
      "metadata": {
        "id": "Es0LaZ4DrDje"
      }
    },
    {
      "cell_type": "code",
      "source": [
        "print(\"========================\")\n",
        "print(\"|| Tiempo de reacción ||\")\n",
        "print(\"======================== \\n\")\n",
        "print(\" Instrucciones \\n\")\n",
        "print(\"El siguiente juego mide su tiempo de reacción frente a un estímulo.\")\n",
        "print(\"Cuando ingrese su nombre, el juego iniciará un contador regresivo (3,2,1,Ahora!) \\n y usted debe\"\n",
        " \" presionar enter lo más rápido posible cuando aparezca la palabra \\\"Ahora!\\\" en la pantalla \\n\")\n",
        "Nombre = input(\"Para empezar el juego escriba su nombre \")\n",
        "print(\"\")\n",
        "print(\"3, \",end=\"\")\n",
        "time.sleep(1)\n",
        "print(\"2, \",end=\"\")\n",
        "time.sleep(1)\n",
        "print(\"1, \",end=\"\")\n",
        "time.sleep(1)\n",
        "print(\"Ahora!\")\n",
        "t0 =time.time()\n",
        "input()\n",
        "t1 =time.time()\n",
        "tiempo_respuesta = t1-t0\n",
        "print(Nombre,\", tu tiempo de respuesta fue de = \", tiempo_respuesta,\" segundos\")\n",
        "\n",
        "\n",
        "\n",
        "\n",
        "\n"
      ],
      "metadata": {
        "colab": {
          "base_uri": "https://localhost:8080/"
        },
        "id": "AJr8fdYorftB",
        "outputId": "05bca25f-22cb-4c84-8060-43c0830a7fe9"
      },
      "execution_count": null,
      "outputs": [
        {
          "output_type": "stream",
          "name": "stdout",
          "text": [
            "========================\n",
            "|| Tiempo de reacción ||\n",
            "======================== \n",
            "\n",
            " Instrucciones \n",
            "\n",
            "El siguiente juego mide su tiempo de reacción frente a un estímulo.\n",
            "Cuando ingrese su nombre, el juego iniciará un contador regresivo (3,2,1,Ahora!) \n",
            " y usted debe presionar enter lo más rápido posible cuando aparezca la palabra \"Ahora!\" en la pantalla \n",
            "\n",
            "Para empezar el juego escriba su nombre Andrea\n",
            "\n",
            "3, 2, 1, Ahora!\n",
            "\n",
            "Andrea , tu tiempo de respuesta fue de =  3.429593801498413  segundos\n"
          ]
        }
      ]
    }
  ]
}