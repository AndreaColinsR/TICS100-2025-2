{
  "nbformat": 4,
  "nbformat_minor": 0,
  "metadata": {
    "colab": {
      "provenance": [],
      "authorship_tag": "ABX9TyPuc2f4vfX/PwQVcvXibXVg"
    },
    "kernelspec": {
      "name": "python3",
      "display_name": "Python 3"
    },
    "language_info": {
      "name": "python"
    }
  },
  "cells": [
    {
      "cell_type": "code",
      "source": [
        "print(\"hola\")"
      ],
      "metadata": {
        "id": "9zYzBeLQoCDY",
        "colab": {
          "base_uri": "https://localhost:8080/"
        },
        "outputId": "ec5c16b1-bff1-4574-a04b-3fdc70c45b08"
      },
      "execution_count": 2,
      "outputs": [
        {
          "output_type": "stream",
          "name": "stdout",
          "text": [
            "hola\n"
          ]
        }
      ]
    },
    {
      "cell_type": "markdown",
      "source": [
        "## Recomendaciones generales\n",
        "\n",
        "1. Una instrucción por linea"
      ],
      "metadata": {
        "id": "QdyExiKHgk_1"
      }
    },
    {
      "cell_type": "code",
      "source": [
        "# No escriba\n",
        "print(\"Hola\") print(\"Mundo\")"
      ],
      "metadata": {
        "colab": {
          "base_uri": "https://localhost:8080/",
          "height": 106
        },
        "id": "eiIq9q6OZglO",
        "outputId": "5cfec7cd-ac8c-4690-9216-608fba4745a4"
      },
      "execution_count": 13,
      "outputs": [
        {
          "output_type": "error",
          "ename": "SyntaxError",
          "evalue": "invalid syntax (ipython-input-13-2906390411.py, line 2)",
          "traceback": [
            "\u001b[0;36m  File \u001b[0;32m\"/tmp/ipython-input-13-2906390411.py\"\u001b[0;36m, line \u001b[0;32m2\u001b[0m\n\u001b[0;31m    print(\"Hola\") print(\"Mundo\")\u001b[0m\n\u001b[0m                  ^\u001b[0m\n\u001b[0;31mSyntaxError\u001b[0m\u001b[0;31m:\u001b[0m invalid syntax\n"
          ]
        }
      ]
    },
    {
      "cell_type": "code",
      "source": [
        "#Escriba\n",
        "print(\"Hola Mundo\")"
      ],
      "metadata": {
        "colab": {
          "base_uri": "https://localhost:8080/"
        },
        "id": "4SF-Bb0RZ5IW",
        "outputId": "4cb33d54-b042-4b69-dd11-94f4b72c2309"
      },
      "execution_count": 12,
      "outputs": [
        {
          "output_type": "stream",
          "name": "stdout",
          "text": [
            "Hola Mundo\n"
          ]
        }
      ]
    },
    {
      "cell_type": "markdown",
      "source": [
        "2. El código distingue entre mayúsculas y minúsculas"
      ],
      "metadata": {
        "id": "s60wFk-khA7r"
      }
    },
    {
      "cell_type": "code",
      "source": [
        "# No escriba\n",
        "Print(\"hola\")\n",
        "PRINT(\"hola\")"
      ],
      "metadata": {
        "colab": {
          "base_uri": "https://localhost:8080/",
          "height": 176
        },
        "id": "aTWZJe_Ehiqk",
        "outputId": "1b933a7a-df18-4cb9-9918-bd2536575583"
      },
      "execution_count": 14,
      "outputs": [
        {
          "output_type": "error",
          "ename": "NameError",
          "evalue": "name 'Print' is not defined",
          "traceback": [
            "\u001b[0;31m---------------------------------------------------------------------------\u001b[0m",
            "\u001b[0;31mNameError\u001b[0m                                 Traceback (most recent call last)",
            "\u001b[0;32m/tmp/ipython-input-14-3623392088.py\u001b[0m in \u001b[0;36m<cell line: 0>\u001b[0;34m()\u001b[0m\n\u001b[1;32m      1\u001b[0m \u001b[0;31m# No escriba\u001b[0m\u001b[0;34m\u001b[0m\u001b[0;34m\u001b[0m\u001b[0m\n\u001b[0;32m----> 2\u001b[0;31m \u001b[0mPrint\u001b[0m\u001b[0;34m(\u001b[0m\u001b[0;34m\"hola\"\u001b[0m\u001b[0;34m)\u001b[0m\u001b[0;34m\u001b[0m\u001b[0;34m\u001b[0m\u001b[0m\n\u001b[0m\u001b[1;32m      3\u001b[0m \u001b[0mPRINT\u001b[0m\u001b[0;34m(\u001b[0m\u001b[0;34m\"hola\"\u001b[0m\u001b[0;34m)\u001b[0m\u001b[0;34m\u001b[0m\u001b[0;34m\u001b[0m\u001b[0m\n",
            "\u001b[0;31mNameError\u001b[0m: name 'Print' is not defined"
          ]
        }
      ]
    },
    {
      "cell_type": "code",
      "source": [
        "#Escriba\n",
        "print(\"hola\")"
      ],
      "metadata": {
        "colab": {
          "base_uri": "https://localhost:8080/"
        },
        "id": "ZouQa-44httf",
        "outputId": "954004d6-ef4d-4949-b567-4fd717e40182"
      },
      "execution_count": 15,
      "outputs": [
        {
          "output_type": "stream",
          "name": "stdout",
          "text": [
            "hola\n"
          ]
        }
      ]
    },
    {
      "cell_type": "markdown",
      "source": [
        "3. Los paréntesis son muy importantes!!"
      ],
      "metadata": {
        "id": "oN1HuNCSh1j6"
      }
    },
    {
      "cell_type": "code",
      "source": [
        "# No escriba\n",
        "print \"hola\""
      ],
      "metadata": {
        "colab": {
          "base_uri": "https://localhost:8080/",
          "height": 106
        },
        "id": "Pn12f7pJiB2f",
        "outputId": "eb3c87be-aa06-459d-ff71-3f1467cde4ae"
      },
      "execution_count": 16,
      "outputs": [
        {
          "output_type": "error",
          "ename": "SyntaxError",
          "evalue": "Missing parentheses in call to 'print'. Did you mean print(...)? (ipython-input-16-2269183571.py, line 2)",
          "traceback": [
            "\u001b[0;36m  File \u001b[0;32m\"/tmp/ipython-input-16-2269183571.py\"\u001b[0;36m, line \u001b[0;32m2\u001b[0m\n\u001b[0;31m    print \"hola\"\u001b[0m\n\u001b[0m    ^\u001b[0m\n\u001b[0;31mSyntaxError\u001b[0m\u001b[0;31m:\u001b[0m Missing parentheses in call to 'print'. Did you mean print(...)?\n"
          ]
        }
      ]
    },
    {
      "cell_type": "code",
      "source": [
        "# No escriba\n",
        "print\"(hola)\""
      ],
      "metadata": {
        "colab": {
          "base_uri": "https://localhost:8080/",
          "height": 106
        },
        "id": "XC8A75A0iSLT",
        "outputId": "862c1b9e-c7e2-46a4-87a6-b6bcf18e8237"
      },
      "execution_count": 17,
      "outputs": [
        {
          "output_type": "error",
          "ename": "SyntaxError",
          "evalue": "Missing parentheses in call to 'print'. Did you mean print(...)? (ipython-input-17-1773439068.py, line 2)",
          "traceback": [
            "\u001b[0;36m  File \u001b[0;32m\"/tmp/ipython-input-17-1773439068.py\"\u001b[0;36m, line \u001b[0;32m2\u001b[0m\n\u001b[0;31m    print\"(hola)\"\u001b[0m\n\u001b[0m    ^\u001b[0m\n\u001b[0;31mSyntaxError\u001b[0m\u001b[0;31m:\u001b[0m Missing parentheses in call to 'print'. Did you mean print(...)?\n"
          ]
        }
      ]
    },
    {
      "cell_type": "code",
      "source": [
        "# Escriba\n",
        "print(\"hola\")"
      ],
      "metadata": {
        "id": "uUEHo0eZiZV_"
      },
      "execution_count": null,
      "outputs": []
    },
    {
      "cell_type": "markdown",
      "source": [
        "# Ejercicios en clases\n",
        "\n",
        "Vamos a comenzar usando Python. Para ello muestra en pantalla “Hola tu Nombre”, escríbelo, de las siguientes formas:"
      ],
      "metadata": {
        "id": "Ab3c8V5-o9uq"
      }
    },
    {
      "cell_type": "code",
      "source": [
        "# a) Usando un parámetro\n",
        "print(\"Hola Andrea\")"
      ],
      "metadata": {
        "colab": {
          "base_uri": "https://localhost:8080/"
        },
        "id": "s7DEml2gpH-x",
        "outputId": "bd41f6e1-ae49-49c0-ccb1-5672c583a530"
      },
      "execution_count": 1,
      "outputs": [
        {
          "output_type": "stream",
          "name": "stdout",
          "text": [
            "Hola Andrea\n"
          ]
        }
      ]
    },
    {
      "cell_type": "code",
      "source": [
        "# b) Usando dos parámetros\n",
        "print(\"Hola \",\"Andrea\")"
      ],
      "metadata": {
        "colab": {
          "base_uri": "https://localhost:8080/"
        },
        "id": "RNjDzfcK6tSs",
        "outputId": "dda07d8f-cad5-42ef-b089-f87d4a35b433"
      },
      "execution_count": 2,
      "outputs": [
        {
          "output_type": "stream",
          "name": "stdout",
          "text": [
            "Hola  Andrea\n"
          ]
        }
      ]
    },
    {
      "cell_type": "code",
      "source": [
        "# c) Usando dos print\n",
        "print(\"Hola\")\n",
        "print(\"Andrea\")"
      ],
      "metadata": {
        "colab": {
          "base_uri": "https://localhost:8080/"
        },
        "id": "LfJt_Sf866lQ",
        "outputId": "3d003dab-6c31-4816-c80c-66186e6f7e4e"
      },
      "execution_count": 3,
      "outputs": [
        {
          "output_type": "stream",
          "name": "stdout",
          "text": [
            "Hola\n",
            "Andrea\n"
          ]
        }
      ]
    },
    {
      "cell_type": "code",
      "source": [
        "# Usa dos print, pero en el primer print usando como segundo parámetro end=“”\n",
        "print(\"Hola\",end=\"\")\n",
        "print(\"Andrea\")"
      ],
      "metadata": {
        "colab": {
          "base_uri": "https://localhost:8080/"
        },
        "id": "EQWsdNfo7IyZ",
        "outputId": "d9b5b646-7a44-426c-8794-4ccf622e356e"
      },
      "execution_count": 4,
      "outputs": [
        {
          "output_type": "stream",
          "name": "stdout",
          "text": [
            "HolaAndrea\n"
          ]
        }
      ]
    },
    {
      "cell_type": "code",
      "source": [
        "#Vamos a comenzar usando Python como una calculadora.\n",
        "# Para ello muestra en pantalla una operación matemática y su resultado. Por ejemplo: El resultado de 2 * 3 + 4 – 12 ** 5 es  -248822\n",
        "\n",
        "print(\"El resultado de 2 * 3 + 4 – 12 ** 5 es \", 2 * 3 + 4 - 12 ** 5)"
      ],
      "metadata": {
        "colab": {
          "base_uri": "https://localhost:8080/"
        },
        "id": "78mOliZ_7m5N",
        "outputId": "ba4dc84d-d091-4f0d-eb43-6ec6730cebf9"
      },
      "execution_count": 6,
      "outputs": [
        {
          "output_type": "stream",
          "name": "stdout",
          "text": [
            "El resultado de 2 * 3 + 4 – 12 ** 5 es  -248822\n"
          ]
        }
      ]
    },
    {
      "cell_type": "markdown",
      "source": [
        "# Ejercicios propuestos"
      ],
      "metadata": {
        "id": "x6JnigiVik-p"
      }
    },
    {
      "cell_type": "markdown",
      "source": [
        "## 1. Escriba un código que imprima lo siguiente\n",
        "\n",
        "\n",
        "![Screenshot 2025-07-25 130328.png](data:image/png;base64,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)"
      ],
      "metadata": {
        "id": "x49NzGCIla4T"
      }
    },
    {
      "cell_type": "code",
      "source": [
        "## El siguiente codigo imprime un rectangulo\n",
        "print(\"|-----|\")\n",
        "print(\"|     |\")\n",
        "print(\"|     |\")\n",
        "print(\"|-----|\")"
      ],
      "metadata": {
        "colab": {
          "base_uri": "https://localhost:8080/"
        },
        "id": "ygYzT7mHaJTR",
        "outputId": "34fb6064-455b-4e59-ee51-ab8255cef8e0"
      },
      "execution_count": 23,
      "outputs": [
        {
          "output_type": "stream",
          "name": "stdout",
          "text": [
            "|-----|\n",
            "|     |\n",
            "|     |\n",
            "|-----|\n"
          ]
        }
      ]
    },
    {
      "cell_type": "markdown",
      "source": [
        "## 2. Escriba un código que muestre el resultado del siguiente cálculo\n",
        "$(4\\cdot 4)+\\frac{3}{2}$\n"
      ],
      "metadata": {
        "id": "GMie9bIejVgZ"
      }
    },
    {
      "cell_type": "code",
      "source": [
        "print(\"El resultado es = \", 4*4+3/2)"
      ],
      "metadata": {
        "colab": {
          "base_uri": "https://localhost:8080/"
        },
        "id": "azOaJTbdk4fg",
        "outputId": "06ac72af-8206-4150-eb43-71ad76d95645"
      },
      "execution_count": 24,
      "outputs": [
        {
          "output_type": "stream",
          "name": "stdout",
          "text": [
            "El resultado es =  17.5\n"
          ]
        }
      ]
    }
  ]
}