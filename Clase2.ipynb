{
  "nbformat": 4,
  "nbformat_minor": 0,
  "metadata": {
    "colab": {
      "provenance": [],
      "authorship_tag": "ABX9TyOCanKGglYIw0f75Sq1ZXJ0",
      "include_colab_link": true
    },
    "kernelspec": {
      "name": "python3",
      "display_name": "Python 3"
    },
    "language_info": {
      "name": "python"
    }
  },
  "cells": [
    {
      "cell_type": "markdown",
      "metadata": {
        "id": "view-in-github",
        "colab_type": "text"
      },
      "source": [
        "<a href=\"https://colab.research.google.com/github/AndreaColinsR/TICS100-2025-2/blob/main/Clase2.ipynb\" target=\"_parent\"><img src=\"https://colab.research.google.com/assets/colab-badge.svg\" alt=\"Open In Colab\"/></a>"
      ]
    },
    {
      "cell_type": "markdown",
      "source": [
        "# Variables"
      ],
      "metadata": {
        "id": "ZLlx7Q87z7ms"
      }
    },
    {
      "cell_type": "code",
      "execution_count": null,
      "metadata": {
        "id": "SNGnbF1-zxXi",
        "outputId": "d0b4e808-0d27-49cc-9752-179cdc65dd36",
        "colab": {
          "base_uri": "https://localhost:8080/"
        }
      },
      "outputs": [
        {
          "output_type": "stream",
          "name": "stdout",
          "text": [
            "5\n"
          ]
        }
      ],
      "source": [
        "# Definiendo la variable x como el numero 5\n",
        "x = 5\n",
        "print(x)"
      ]
    },
    {
      "cell_type": "markdown",
      "source": [
        "# Tipos de datos"
      ],
      "metadata": {
        "id": "igR46MJc3SPc"
      }
    },
    {
      "cell_type": "markdown",
      "source": [
        "| Tipo de dato   | Nombre de código | Qué es? |Descripción |\n",
        "| -------- | --- | ------- | ------- |\n",
        "| String| ```str``` | texto o caracteres| Usado como una combinación decaracteres que aparecen en el teclado  como letras, números y símbolos |\n",
        "| Caracter| ```char``` | texto o caracter| Una sola letra o caracter |\n",
        "| Entero| ```int``` | número| Usado como números enteros |\n",
        "| Números reales| ```float``` | número| Usado con números decimales o fracciones |\n",
        "| Lógico (booleano)| ```bool``` | lógico| Restringido a valores de verdadero (```True```) y falso (```False```)|\n",
        "\n",
        "\n"
      ],
      "metadata": {
        "id": "TGPazy-3IJ6K"
      }
    },
    {
      "cell_type": "markdown",
      "source": [
        "## Ejercicio tipos de datos\n"
      ],
      "metadata": {
        "id": "BZHmVkBEYwhY"
      }
    },
    {
      "cell_type": "markdown",
      "source": [
        "Defina e imprima variables con los siguientes valores:\n",
        "1. 10\n",
        "2. \"hola\"\n",
        "3. \"0\"\n",
        "4. $3\\cdot 10^7$\n",
        "5. False\n",
        "6. ∞\n",
        "7. $\\pi$\n"
      ],
      "metadata": {
        "id": "n7MC4FLrY5zK"
      }
    },
    {
      "cell_type": "code",
      "source": [
        "a = 10\n",
        "print(\"El valor de a es\",a)"
      ],
      "metadata": {
        "id": "YXyRKQdUZdWl",
        "colab": {
          "base_uri": "https://localhost:8080/"
        },
        "outputId": "28d8d023-cbc7-45f8-c3a8-b51fbad02d0a"
      },
      "execution_count": null,
      "outputs": [
        {
          "output_type": "stream",
          "name": "stdout",
          "text": [
            "El valor de a es 10\n"
          ]
        }
      ]
    },
    {
      "cell_type": "code",
      "source": [
        "b = \"hola\"\n",
        "print(\"El valor de b es\",b)"
      ],
      "metadata": {
        "id": "UysxiyBQZtgo",
        "colab": {
          "base_uri": "https://localhost:8080/"
        },
        "outputId": "f6652a3f-0e33-4c0d-acb1-cb3baab153a5"
      },
      "execution_count": null,
      "outputs": [
        {
          "output_type": "stream",
          "name": "stdout",
          "text": [
            "El valor de b es hola\n"
          ]
        }
      ]
    },
    {
      "cell_type": "code",
      "source": [
        "c = \"0\"\n",
        "print(\"El valor de c es\",c)"
      ],
      "metadata": {
        "id": "51OHmoXTZ6Ja",
        "colab": {
          "base_uri": "https://localhost:8080/"
        },
        "outputId": "ee276c67-703f-4e0c-d2a7-0e69f30248e1"
      },
      "execution_count": null,
      "outputs": [
        {
          "output_type": "stream",
          "name": "stdout",
          "text": [
            "El valor de c es 0\n"
          ]
        }
      ]
    },
    {
      "cell_type": "code",
      "source": [
        "d = 3*10**7\n",
        "print(\"El valor de d es\",d)\n",
        "\n",
        "## es diferente el valor d = (3*10)**7?\n",
        "## Hint: PAPOMUDAS"
      ],
      "metadata": {
        "id": "5WhdKQ5XblPm",
        "colab": {
          "base_uri": "https://localhost:8080/"
        },
        "outputId": "813ab0ce-502c-4406-a077-46d27815de01"
      },
      "execution_count": null,
      "outputs": [
        {
          "output_type": "stream",
          "name": "stdout",
          "text": [
            "El valor de d es 30000000\n"
          ]
        }
      ]
    },
    {
      "cell_type": "code",
      "source": [
        "e = False\n",
        "print(\"El valor de e es\",e)"
      ],
      "metadata": {
        "id": "zcqRKhqscaA4",
        "colab": {
          "base_uri": "https://localhost:8080/"
        },
        "outputId": "5e009934-b156-4788-e768-6516b68fc456"
      },
      "execution_count": null,
      "outputs": [
        {
          "output_type": "stream",
          "name": "stdout",
          "text": [
            "El valor de e es False\n"
          ]
        }
      ]
    },
    {
      "cell_type": "code",
      "source": [
        "i = float('inf')\n",
        "print(\"El valor de i es\",i)"
      ],
      "metadata": {
        "id": "XHwNT0s9ckOU",
        "colab": {
          "base_uri": "https://localhost:8080/"
        },
        "outputId": "05267ca7-7d87-4a10-8b16-6c5cbd049d8b"
      },
      "execution_count": null,
      "outputs": [
        {
          "output_type": "stream",
          "name": "stdout",
          "text": [
            "El valor de i es inf\n"
          ]
        }
      ]
    },
    {
      "cell_type": "code",
      "source": [
        "import math\n",
        "j = math.pi\n",
        "print(\"El valor de j es\",j)\n",
        "\n",
        "## que significa import math? lo veremos la proxima clase"
      ],
      "metadata": {
        "id": "ekJs2bITeJNo",
        "colab": {
          "base_uri": "https://localhost:8080/"
        },
        "outputId": "7e57c1b6-018c-46a3-8242-5695bed33d94"
      },
      "execution_count": null,
      "outputs": [
        {
          "output_type": "stream",
          "name": "stdout",
          "text": [
            "El valor de j es 3.141592653589793\n"
          ]
        }
      ]
    },
    {
      "cell_type": "code",
      "source": [
        "## BONUS\n",
        "# como saber cual es el tipo de una variable?\n",
        "# la funcion type nos dice el tipo\n",
        "x = 5\n",
        "print(\"El tipo de la variable x es \", type(x))"
      ],
      "metadata": {
        "id": "29zsjmon0I_w",
        "colab": {
          "base_uri": "https://localhost:8080/"
        },
        "outputId": "5a908393-a53e-4903-ea41-3da073a45ff1"
      },
      "execution_count": null,
      "outputs": [
        {
          "output_type": "stream",
          "name": "stdout",
          "text": [
            "El tipo de la variable x es  <class 'int'>\n"
          ]
        }
      ]
    },
    {
      "cell_type": "code",
      "source": [
        "x=3.1\n",
        "print(\"El tipo de la variable x es \", type(x))"
      ],
      "metadata": {
        "id": "IRwLI7jWNLkk",
        "colab": {
          "base_uri": "https://localhost:8080/"
        },
        "outputId": "d7f9e541-de8c-4e0b-a753-ee5be3951b49"
      },
      "execution_count": null,
      "outputs": [
        {
          "output_type": "stream",
          "name": "stdout",
          "text": [
            "El tipo de la variable x es  <class 'float'>\n"
          ]
        }
      ]
    },
    {
      "cell_type": "markdown",
      "source": [
        "# Operaciones\n",
        "\n",
        "## Operaciones matemáticas\n",
        "\n",
        "| Operación matemática   | Equivalente código | Ejemplo|\n",
        "| -------- | --- | ----|\n",
        "| Suma| + | 3+2 = 5|\n",
        "| Resta| - | 3-2 = 1|\n",
        "| División | / | 6/3 = 2|\n",
        "| Multiplicación| * | 6\\*3 = 18|\n",
        "| Módulo| % | 13%3 = 1|\n",
        "| Potencia| \\** | 2\\**3 = 8|\n",
        "\n",
        "\n",
        "\n",
        "\n",
        "Nota: La operación módulo entre $x$ e $y$ ($x$%$y$) es el resto de la división entre $x$ e $y$. En el ejemplo 13%3, 13/3 es 4 con un resto de 1, por lo que 13%3 = 1\n",
        "\n",
        "\n"
      ],
      "metadata": {
        "id": "dHdpTx3Z3bh4"
      }
    },
    {
      "cell_type": "markdown",
      "source": [
        "## Ejercicio\n",
        "\n",
        "Defina las variables C1 = 10 y C2 = 20. Realice las 4 operaciones aritméticas e imprima el resultado de cada una de ellas."
      ],
      "metadata": {
        "id": "iQj_-lVzo6Ra"
      }
    },
    {
      "cell_type": "code",
      "source": [
        "C1 = 10\n",
        "C2 = 20\n",
        "\n",
        "print(\"La suma de C1 y C2 es \",C1+C2)\n",
        "print(\"La resta de C1 y C2 es \",C1-C2)\n",
        "print(\"La multiplicación de C1 y C2 es \",C1*C2)\n",
        "print(\"La división de C1 y C2 es \",C1/C2)"
      ],
      "metadata": {
        "id": "3KbBJ9js_EMn",
        "colab": {
          "base_uri": "https://localhost:8080/"
        },
        "outputId": "37a1f7ce-c0f2-4f10-fbc4-5d693c188bde"
      },
      "execution_count": null,
      "outputs": [
        {
          "output_type": "stream",
          "name": "stdout",
          "text": [
            "La suma de C1 y C2 es  30\n",
            "La resta de C1 y C2 es  -10\n",
            "La multiplicación de C1 y C2 es  200\n",
            "La división de C1 y C2 es  0.5\n"
          ]
        }
      ]
    },
    {
      "cell_type": "markdown",
      "source": [
        "# La función Input\n",
        "\n",
        "\n"
      ],
      "metadata": {
        "id": "6V174wtZp59X"
      }
    },
    {
      "cell_type": "markdown",
      "source": [
        "## Ejemplo"
      ],
      "metadata": {
        "id": "HWFnpS6lqZyt"
      }
    },
    {
      "cell_type": "code",
      "source": [
        "print(\"Ingrese un numero\")\n",
        "numIngresado = input()\n",
        "textoBase = \"El numero ingresado es\"\n",
        "print(textoBase,numIngresado)\n",
        "# equivalente a\n",
        "# print(\"El numero ingresado es\",numIngresado)\n",
        "\n",
        "\n",
        "## La siguiente linea no imprime el numero ingresado\n",
        "print(\"El numero ingresado es numIngresado\")"
      ],
      "metadata": {
        "id": "ZNsPtTgEqaw9",
        "colab": {
          "base_uri": "https://localhost:8080/"
        },
        "outputId": "d9ab653a-03dc-40f2-8a5e-b4daf53c180d"
      },
      "execution_count": null,
      "outputs": [
        {
          "output_type": "stream",
          "name": "stdout",
          "text": [
            "Ingrese un numero\n",
            "100\n",
            "El numero ingresado es 100\n",
            "El numero ingresado es numIngresado\n"
          ]
        }
      ]
    },
    {
      "cell_type": "markdown",
      "source": [
        "Qué tipo de dato recibe la función ``` input ``` ?\n"
      ],
      "metadata": {
        "id": "VNl1w1Vqrskk"
      }
    },
    {
      "cell_type": "code",
      "source": [
        "print(\" El tipo de dato es \", type(numIngresado))"
      ],
      "metadata": {
        "id": "ki59jldPrjrQ",
        "colab": {
          "base_uri": "https://localhost:8080/"
        },
        "outputId": "201bed8b-d431-4836-b868-e5f6e2c6facd"
      },
      "execution_count": null,
      "outputs": [
        {
          "output_type": "stream",
          "name": "stdout",
          "text": [
            " El tipo de dato es  <class 'str'>\n"
          ]
        }
      ]
    },
    {
      "cell_type": "markdown",
      "source": [
        "Transformando tipos de datos"
      ],
      "metadata": {
        "id": "Hdf9nIoCsK_I"
      }
    },
    {
      "cell_type": "code",
      "source": [
        "num_int= int(numIngresado)\n",
        "print(\" Ahora num_int es \", type(num_int))"
      ],
      "metadata": {
        "id": "StYTnHa4sOis",
        "colab": {
          "base_uri": "https://localhost:8080/"
        },
        "outputId": "54f9c292-b759-44fc-bd4d-c64935e5cff1"
      },
      "execution_count": null,
      "outputs": [
        {
          "output_type": "stream",
          "name": "stdout",
          "text": [
            " Ahora num_int es  <class 'int'>\n"
          ]
        }
      ]
    },
    {
      "cell_type": "markdown",
      "source": [
        "Por qué esto es importante?\n",
        "\n",
        "Las operaciones dependen del tipo de variable!!"
      ],
      "metadata": {
        "id": "BktYW0DgsrFm"
      }
    },
    {
      "cell_type": "code",
      "source": [
        "print(\"Operacion de strings es la concatenación = \",numIngresado+numIngresado)\n",
        "print(\"Operacion de int es la suma = \",num_int+num_int)"
      ],
      "metadata": {
        "id": "JjJg1isesyZT",
        "colab": {
          "base_uri": "https://localhost:8080/"
        },
        "outputId": "3a9ce434-df44-4b30-e459-267bd8be598a"
      },
      "execution_count": null,
      "outputs": [
        {
          "output_type": "stream",
          "name": "stdout",
          "text": [
            "Operacion de strings es la concatenación =  100100\n",
            "Operacion de int es la suma =  200\n"
          ]
        }
      ]
    },
    {
      "cell_type": "markdown",
      "source": [
        "También existen otras funciones para convertir variables de un tipo a otro. Por ejemplo:\n",
        "\n",
        "- ``` str() ```\n",
        "- ``` float() ```\n",
        "- otras\n",
        "\n"
      ],
      "metadata": {
        "id": "dOBjv97EuHrE"
      }
    },
    {
      "cell_type": "markdown",
      "source": [
        "## Ejercicio 1\n",
        "\n",
        "Usted está trabajando en el banco Cantander y le piden que cree un código que le indique a los clientes cuánto ahorrarán en un año si depositan $Ndepo$ pesos el primer día del año. El banco ofrece una tasa de interés es de un 3\\% y usa la ecuación de interés compuesto para calcular el monto final ahorrado. Usted decide usar sus conocimientos de Python para crear su código usando las funciones print e input. Para esto escriba un código que le pida al usuario la cantidad de dinero $Ndepo$ que quiere depositar en su cuenta de ahorro y que muestre en la pantalla el valor ahorrado al final del año.\n",
        "\n",
        "##  \n",
        "\n",
        "Hint: La fórmula de interés compuesto es\n",
        "\n",
        "$ C_f = C_0 \\cdot (1 + i) ^ t $\n",
        "\n",
        "Donde\n",
        "\n",
        "$C_0$ = capital inicial\n",
        "\n",
        "$i$ = tasa de interés mensual (en decimal)\n",
        "\n",
        "$t$ = número de meses"
      ],
      "metadata": {
        "id": "JlF9fbKlul3o"
      }
    },
    {
      "cell_type": "code",
      "source": [
        "# 1. Pedir informacion al usuario\n",
        "print(\"Ingrese el monto que desea depositar\")\n",
        "Capital=input()\n",
        "\n",
        "# 2. Convertir respuesta el usuario a un int\n",
        "Capital_int=int(Capital)\n",
        "\n",
        "# 3. Calcular el monto al final del periodo\n",
        "i= 3/100 # interes en decimal\n",
        "t = 12 # meses\n",
        "Cfinal= Capital_int*(1+i)**t\n",
        "\n",
        "# 4. Imprimir resultado\n",
        "print(\"El monto ahorrado al final del año será \",Cfinal, \"pesos\")"
      ],
      "metadata": {
        "id": "XLePRnxdzN7c",
        "colab": {
          "base_uri": "https://localhost:8080/"
        },
        "outputId": "42d594ce-2aaa-45fa-e50f-5ebdbe407b03"
      },
      "execution_count": null,
      "outputs": [
        {
          "output_type": "stream",
          "name": "stdout",
          "text": [
            "Ingrese el monto que desea depositar\n",
            "100\n",
            "El monto ahorrado al final del año será  142.57608868461793 pesos\n"
          ]
        }
      ]
    },
    {
      "cell_type": "markdown",
      "source": [
        "Excelente! Suponga que ahora quiere extender su programa para que el usuario defina el número de meses ($Nmeses$) por la que ahorrará su dinero."
      ],
      "metadata": {
        "id": "omHJy0Al1H5q"
      }
    },
    {
      "cell_type": "code",
      "source": [
        "# 1. Pedir informacion al usuario\n",
        "print(\"Ingrese el monto que desea depositar\")\n",
        "Capital=input()\n",
        "\n",
        "# 2. Convertir respuesta el usuario a un int\n",
        "Capital_int=int(Capital)\n",
        "\n",
        "# 3. Pedir al usuario que defina el numero de meses\n",
        "print(\"Ingrese el numero de meses que ahorrara su dinero\")\n",
        "Nmeses=input()\n",
        "Nmeses_int=int(Nmeses)\n",
        "\n",
        "# 4. Calcular el monto al final del periodo\n",
        "i= 3/100 # interes en decimal\n",
        "Cfinal= Capital_int*(1+i)**Nmeses_int\n",
        "\n",
        "# 4. Imprimir resultado\n",
        "print(\"El monto ahorrado al final del año será \",Cfinal, \"pesos\")"
      ],
      "metadata": {
        "id": "Hb0nrfNR2Mgn",
        "colab": {
          "base_uri": "https://localhost:8080/"
        },
        "outputId": "ebbdc740-5f47-44e7-f4c4-0fcbc9506e19"
      },
      "execution_count": null,
      "outputs": [
        {
          "output_type": "stream",
          "name": "stdout",
          "text": [
            "Ingrese el monto que desea depositar\n",
            "100\n",
            "Ingrese el numero de meses que ahorrara su dinero\n",
            "24\n",
            "El monto ahorrado al final del año será  203.2794106460404 pesos\n"
          ]
        }
      ]
    },
    {
      "cell_type": "markdown",
      "source": [
        "Nota: Más adelante podrá entregarle más información al usuario, como por ejemplo un gráfico de su capital en el tiempo"
      ],
      "metadata": {
        "id": "CcSvoAWA9q3G"
      }
    },
    {
      "cell_type": "code",
      "source": [
        "  import matplotlib.pyplot as plt\n",
        "  import numpy as np\n",
        "  t2 =np.arange(0, Nmeses_int)\n",
        "  Cfinal2= Capital_int*(1+i)**t2\n",
        "\n",
        "  plt.plot(t2,Cfinal2,'*')\n",
        "  plt.xlabel(\"Tiempo [meses] \")\n",
        "  plt.ylabel(\"Capital [pesos] \")\n",
        "  plt.show()"
      ],
      "metadata": {
        "id": "5NV4lE7teG0c",
        "colab": {
          "base_uri": "https://localhost:8080/",
          "height": 449
        },
        "outputId": "89818464-54aa-4a5a-b6e4-1d01f8d7beab"
      },
      "execution_count": null,
      "outputs": [
        {
          "output_type": "display_data",
          "data": {
            "text/plain": [
              "<Figure size 640x480 with 1 Axes>"
            ],
            "image/png": "[encoded data removed]"
          },
          "metadata": {}
        }
      ]
    },
    {
      "cell_type": "markdown",
      "source": [
        "## Ejercicio 2\n",
        "\n",
        "Recientemente usted se integró a una agencia de turismo. Para ayudar a los clientes a tener una mejor experiencia en sus vacaciones, su empresa le asigna la tarea de estimar el presupuesto que cada cliente tendrá para entretención en su viaje. Para esto debe considerar que cada cliente tendrá un presupuesto para el total del viaje. Ese presupuesto se desglosará en los costos de alojamiento, costo de transporte y de entretención. Cree un programa que le pida al usuario:\n",
        "- El presupuesto total de viaje\n",
        "- El número de días que se quedarán en la ciudad de destino\n",
        "- El presupuesto del hotel por día\n",
        "- El presupuesto de transporte por tramo (ida o vuelta, no ambos)\n",
        "\n",
        "Y, en base a estas respuestas, calcule el presupuesto final para entretención."
      ],
      "metadata": {
        "id": "AkIxlOoxzZz5"
      }
    },
    {
      "cell_type": "code",
      "source": [
        "# 1. Pedir información al usuario\n",
        "Pres_total = input(\"Por favor ingrese su presupuesto total : \")\n",
        "Ndias = input(\"Por favor ingrese el número de días que se quedará : \")\n",
        "Pres_hotel = input(\"Por favor ingrese su presupuesto para alojamiento por día : \")\n",
        "Pres_trans = input(\"Por favor ingrese su presupuesto para transporte por tramo : \")\n",
        "\n",
        "# 2. Convertir variables a valores numericos y calcular el presupuesto para entretención\n",
        "\n",
        "Pres_entretencion = int(Pres_total)-int(Ndias)*int(Pres_hotel)-int(Pres_trans)*2\n",
        "\n",
        "# 3. Retornar el resultado al usuario\n",
        "\n",
        "print(\"Su presupuesto para entretención es \",Pres_entretencion,\"pesos\")\n"
      ],
      "metadata": {
        "colab": {
          "base_uri": "https://localhost:8080/"
        },
        "id": "B_7hQ-du4FuY",
        "outputId": "17b8e055-fd0b-411d-b9c6-58f7e28d2f3c"
      },
      "execution_count": null,
      "outputs": [
        {
          "output_type": "stream",
          "name": "stdout",
          "text": [
            "Por favor ingrese su presupuesto total : 100\n",
            "Por favor ingrese el número de días que se quedará : 3\n",
            "Por favor ingrese su presupuesto para alojamiento por día : 10\n",
            "Por favor ingrese su presupuesto para transporte por tramo : 20\n",
            "Su presupuesto para entretención es  30 pesos\n"
          ]
        }
      ]
    }
  ]
}